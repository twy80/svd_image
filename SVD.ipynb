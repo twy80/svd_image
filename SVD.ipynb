{
 "cells": [
  {
   "cell_type": "markdown",
   "metadata": {},
   "source": [
    "# A concise explanation of SVD\n",
    "\n",
    "The SVD of a matrix $A$ is the factorization of $A$ into the product of three matrices $A = UDV^T$, where the columns of $U$ and $V$ are orthonormal and the matrix $D$ is diagonal with nonnegative real entries. This decomposition can also be written as\n",
    "\n",
    "$$ A = \\sum_{k=1}^{r} \\sigma_k u_k v_k^T$$\n",
    "\n",
    "where the singular value $\\sigma_k$ is the $k$-th element of $D$ arranged in decending order, and $u_k$ and $v_k$ are the $k$-th columns of $U$ and $V$. The approximation of $A$ can thus be obtained as follows:\n",
    "\n",
    "$$ \\tilde{A} = \\sum_{k=1}^{n} \\sigma_k u_k v_k^T$$\n",
    "\n",
    "where $n (\\le r)$ is the rank of the compressed matrix $\\tilde{A}$. If $A$ contains pixels of an image, $\\tilde{A}$ is a compressed image using a reduced amount of memory. This is what is meant by image compression via SVD.\n"
   ]
  }
 ],
 "metadata": {
  "kernelspec": {
   "display_name": "Python 3 (ipykernel)",
   "language": "python",
   "name": "python3"
  },
  "language_info": {
   "codemirror_mode": {
    "name": "ipython",
    "version": 3
   },
   "file_extension": ".py",
   "mimetype": "text/x-python",
   "name": "python",
   "nbconvert_exporter": "python",
   "pygments_lexer": "ipython3",
   "version": "3.8.10"
  }
 },
 "nbformat": 4,
 "nbformat_minor": 4
}
